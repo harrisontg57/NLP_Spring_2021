{
  "nbformat": 4,
  "nbformat_minor": 0,
  "metadata": {
    "colab": {
      "name": "Untitled1.ipynb",
      "provenance": [],
      "authorship_tag": "ABX9TyMody8Fna7RWHpSz+uZxuKF",
      "include_colab_link": true
    },
    "kernelspec": {
      "name": "python3",
      "display_name": "Python 3"
    }
  },
  "cells": [
    {
      "cell_type": "markdown",
      "metadata": {
        "id": "view-in-github",
        "colab_type": "text"
      },
      "source": [
        "<a href=\"https://colab.research.google.com/github/harrisontg57/NLP_Spring_2021/blob/main/Homework1.ipynb\" target=\"_parent\"><img src=\"https://colab.research.google.com/assets/colab-badge.svg\" alt=\"Open In Colab\"/></a>"
      ]
    },
    {
      "cell_type": "markdown",
      "metadata": {
        "id": "upr8PkPIDzRj"
      },
      "source": [
        "Tim Harrison\r\n",
        "ID: 002-24-5948\r\n",
        "\r\n",
        "Homework 1"
      ]
    },
    {
      "cell_type": "markdown",
      "metadata": {
        "id": "s4HiwFE9EBos"
      },
      "source": [
        "Problem 1)"
      ]
    },
    {
      "cell_type": "code",
      "metadata": {
        "id": "yljpErTlED_D"
      },
      "source": [
        "import re"
      ],
      "execution_count": 1,
      "outputs": []
    }
  ]
}