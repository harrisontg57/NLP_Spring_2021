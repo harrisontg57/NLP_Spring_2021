{
  "nbformat": 4,
  "nbformat_minor": 0,
  "metadata": {
    "colab": {
      "name": "Exam1.ipynb",
      "provenance": [],
      "authorship_tag": "ABX9TyPndFsMccvXWCyf3KAGap1R",
      "include_colab_link": true
    },
    "kernelspec": {
      "name": "python3",
      "display_name": "Python 3"
    }
  },
  "cells": [
    {
      "cell_type": "markdown",
      "metadata": {
        "id": "view-in-github",
        "colab_type": "text"
      },
      "source": [
        "<a href=\"https://colab.research.google.com/github/harrisontg57/NLP_Spring_2021/blob/main/Exam1.ipynb\" target=\"_parent\"><img src=\"https://colab.research.google.com/assets/colab-badge.svg\" alt=\"Open In Colab\"/></a>"
      ]
    },
    {
      "cell_type": "markdown",
      "metadata": {
        "id": "wNgJZ425e3QW"
      },
      "source": [
        "Tim Harrison\r\n",
        "Exam 1\r\n",
        "Student ID:"
      ]
    },
    {
      "cell_type": "markdown",
      "metadata": {
        "id": "V3aUU1t6e9gV"
      },
      "source": [
        "Question 1)"
      ]
    },
    {
      "cell_type": "code",
      "metadata": {
        "id": "f7q43tIOe_su"
      },
      "source": [
        "import pandas as pd\r\n",
        "from sklearn.feature_extraction.text import TfidfVectorizer\r\n",
        "from sklearn.feature_extraction.text import CountVectorizer\r\n",
        "from sklearn.naive_bayes import MultinomialNB\r\n",
        "from sklearn.linear_model import Perceptron\r\n",
        "from sklearn.linear_model import LogisticRegression\r\n",
        "from sklearn.pipeline import make_pipeline\r\n",
        "\r\n",
        "def create_model(alg_name, vectorization, training_data):\r\n",
        "  if alg_name == \"naive_bayes\":\r\n",
        "    learn = MultinomialNB()\r\n",
        "  elif alg_name == \"perceptron\":\r\n",
        "    learn = Perceptron()\r\n",
        "  elif alg_name == \"logistic_regression\":\r\n",
        "    learn = LogisticRegression()\r\n",
        "  else:\r\n",
        "    raise NameError('incorrect algorithm name')\r\n",
        "\r\n",
        "  if vectorization == \"tfidf\":\r\n",
        "    vect = TfidfVectorizer()\r\n",
        "  elif vectorization == \"bag_of_words\":\r\n",
        "    vect = CountVectorizer()\r\n",
        "  else:\r\n",
        "    raise NameError('incorrect vectorization name')\r\n",
        "  \r\n",
        "  model = make_pipeline(vect, learn)\r\n",
        "  return\r\n"
      ],
      "execution_count": 1,
      "outputs": []
    }
  ]
}