{
  "nbformat": 4,
  "nbformat_minor": 0,
  "metadata": {
    "colab": {
      "name": "Untitled1.ipynb",
      "provenance": [],
      "collapsed_sections": [],
      "authorship_tag": "ABX9TyPqGXor7fPboyoKPjePGwcs",
      "include_colab_link": true
    },
    "kernelspec": {
      "name": "python3",
      "display_name": "Python 3"
    }
  },
  "cells": [
    {
      "cell_type": "markdown",
      "metadata": {
        "id": "view-in-github",
        "colab_type": "text"
      },
      "source": [
        "<a href=\"https://colab.research.google.com/github/harrisontg57/NLP_Spring_2021/blob/main/homework1.ipynb\" target=\"_parent\"><img src=\"https://colab.research.google.com/assets/colab-badge.svg\" alt=\"Open In Colab\"/></a>"
      ]
    },
    {
      "cell_type": "markdown",
      "metadata": {
        "id": "upr8PkPIDzRj"
      },
      "source": [
        "Tim Harrison\r\n",
        "ID: 002-24-5948\r\n",
        "\r\n",
        "Homework 1"
      ]
    },
    {
      "cell_type": "code",
      "metadata": {
        "id": "UVXFHlZ6HRHf"
      },
      "source": [
        "#initial imports etc\r\n",
        "import re\r\n",
        "import sklearn\r\n",
        "#I've added the txt to this session of google colab hopefully that works for grading\r\n",
        "file = open(\"/content/hw_1-text.txt\")"
      ],
      "execution_count": 21,
      "outputs": []
    },
    {
      "cell_type": "markdown",
      "metadata": {
        "id": "s4HiwFE9EBos"
      },
      "source": [
        "Problem 1)"
      ]
    },
    {
      "cell_type": "code",
      "metadata": {
        "colab": {
          "base_uri": "https://localhost:8080/",
          "height": 0
        },
        "id": "yljpErTlED_D",
        "outputId": "dede3a67-d755-4ec4-8b6f-c3aa15ef8655"
      },
      "source": [
        "import re\r\n",
        "import sklearn\r\n",
        "#I've added the txt to this session of google colab hopefully that works for grading\r\n",
        "file = open(\"/content/hw_1-text.txt\")\r\n",
        "\r\n",
        "def ciceroCount(file):\r\n",
        "  count = 0\r\n",
        "  for line in file:\r\n",
        "    #print(line)\r\n",
        "    count += len(re.findall(\"CICERO\", line))\r\n",
        "  return count\r\n",
        "\r\n",
        "print(ciceroCount(file))\r\n"
      ],
      "execution_count": 22,
      "outputs": [
        {
          "output_type": "stream",
          "text": [
            "7\n"
          ],
          "name": "stdout"
        }
      ]
    },
    {
      "cell_type": "markdown",
      "metadata": {
        "id": "pW7DztlzIe-A"
      },
      "source": [
        "Problem 2)"
      ]
    },
    {
      "cell_type": "code",
      "metadata": {
        "colab": {
          "base_uri": "https://localhost:8080/",
          "height": 0
        },
        "id": "ea7y8TXwIg1w",
        "outputId": "2e6367b0-b131-4d9d-b3cf-c8e7364b9fc9"
      },
      "source": [
        "import re\r\n",
        "#I've added the txt to this session of google colab hopefully that works for grading\r\n",
        "file = open(\"/content/hw_1-text.txt\")\r\n",
        "def sixLetter(file):\r\n",
        "  lines = file.read()\r\n",
        "  return re.findall(r'\\s\\w{6}\\s', lines)\r\n",
        "\r\n",
        "print(sixLetter(file))\r\n"
      ],
      "execution_count": 40,
      "outputs": [
        {
          "output_type": "stream",
          "text": [
            "[' Julius ', '\\nSecond ', ' answer ', '\\nSecond ', ' mender ', '\\nSecond ', '\\nSecond ', ' cobble ', '\\nSecond ', '\\nmeddle ', ' proper ', '\\nSecond ', ' myself\\n', ' Caesar ', ' brings ', ' follow ', ' towers ', ' Pompey ', ' sounds\\n', ' plague\\n', ' lowest ', ' shores ', '\\nExeunt ', ' basest ', ' vanish ', ' images\\n', ' vulgar ', '\\nExeunt\\n', ' public ', ' DECIUS ', '\\nCAESAR\\n', ' Caesar ', '\\nCAESAR\\n', '\\nCAESAR\\n', '\\nANTONY\\n', '\\nCAESAR\\n', ' elders ', '\\nANTONY\\n', ' Caesar ', '\\nCAESAR\\n', '\\nCAESAR\\n', '\\nCAESAR\\n', ' Caesar ', '\\nBeware ', '\\nCAESAR\\n', '\\nBRUTUS\\n', ' beware ', '\\nCAESAR\\n', ' before ', '\\nCAESAR\\n', '\\nBeware ', '\\nCAESAR\\n', ' Exeunt ', ' except ', '\\nBRUTUS\\n', '\\nBRUTUS\\n', ' spirit ', ' friend ', '\\nBRUTUS\\n', '\\nMerely ', ' proper ', ' breast ', ' buried\\n', ' worthy ', '\\nBRUTUS\\n', ' hidden ', '\\nExcept ', ' Brutus\\n', ' Brutus ', '\\nBRUTUS\\n', ' myself\\n', ' cannot ', ' gentle ', ' common ', ' myself ', '\\nBRUTUS\\n', ' people\\n', ' Caesar ', '\\nBRUTUS\\n', ' impart ', ' toward ', ' honour ', ' honour ', ' virtue ', ' honour ', ' cannot ', ' single ', '\\nEndure ', '\\nCaesar ', ' yonder ', ' indeed ', ' buffet ', ' hearts ', ' arrive ', '\\nCaesar ', ' flames ', ' become ', ' Caesar ', ' coward ', ' colour ', ' tongue ', ' Romans\\n', ' feeble ', ' should\\n', '\\nBRUTUS\\n', ' narrow ', '\\nBrutus ', ' should ', ' should ', ' become ', '\\nBrutus ', ' spirit ', ' Caesar ', ' indeed ', ' Brutus ', ' easily ', '\\nBRUTUS\\n', ' answer ', '\\nBrutus ', ' rather ', ' repute ', ' struck ', '\\nBRUTUS\\n', ' Caesar ', ' worthy ', ' CAESAR ', '\\nBRUTUS\\n', ' Cicero\\n', ' ferret ', ' matter ', '\\nCAESAR\\n', '\\nANTONY\\n', '\\nCAESAR\\n', ' hungry ', ' thinks ', '\\nANTONY\\n', '\\nCAESAR\\n', ' liable ', ' should ', '\\nSeldom ', ' smiles ', ' spirit\\n', '\\nWhiles ', ' behold ', ' rather ', ' always ', ' Exeunt ', '\\nBRUTUS\\n', ' Caesar ', '\\nBRUTUS\\n', ' should ', ' people ', '\\nBRUTUS\\n', ' second ', '\\nBRUTUS\\n', ' honest ', '\\nBRUTUS\\n', ' manner ', ' gentle ', ' hanged ', ' manner ', '\\nAntony ', ' hooted ', ' sweaty ', ' breath ', '\\nCaesar ', ' almost ', ' Caesar ', ' foamed ', '\\nBRUTUS\\n', ' Caesar ', ' honest ', '\\nCaesar ', ' people ', '\\nBRUTUS\\n', ' before ', '\\ncommon ', '\\nthroat ', ' Caesar ', '\\nBRUTUS\\n', ' Cicero ', ' smiled ', ' scarfs\\n', ' dinner\\n', ' expect ', '\\nBRUTUS\\n', ' fellow ', ' mettle ', ' digest ', ' better ', '\\nBRUTUS\\n', ' please ', ' BRUTUS\\n', ' cannot ', '\\nCaesar ', ' Brutus ', ' should ', ' humour ', ' Caesar ', ' CICERO\\n', ' Caesar ', '\\nShakes ', ' knotty ', '\\nEither ', ' strife ', '\\nCICERO\\n', ' common ', ' twenty ', ' glared ', ' things\\n', '\\nCICERO\\n', ' things ', ' things ', ' Caesar ', '\\nCICERO\\n', ' CICERO\\n', ' honest ', ' menace ', ' breast ', ' myself\\n', ' mighty ', ' tokens ', ' sparks ', ' should ', ' beasts ', ' things ', ' heaven ', ' Caesar ', ' Romans ', ' Caesar ', ' dagger ', ' beaten ', ' strong ', ' cancel ', ' should ', ' tyrant ', ' Romans ', ' Romans ', ' mighty ', ' serves\\n', ' matter ', '\\nBefore ', ' answer ', ' Romans\\n', ' Brutus ', ' Brutus ', '\\nRepair ', ' Decius ', ' bestow ', ' papers ', ' repair ', ' Brutus ', ' entire\\n', ' yields ', ' appear ', ' change ', ' virtue ', '\\nExeunt\\n', ' BRUTUS\\n', ' LUCIUS\\n', '\\nLUCIUS\\n', '\\nBRUTUS\\n', '\\nLUCIUS\\n', '\\nBRUTUS\\n', ' change ', ' bright ', ' brings ', ' craves ', ' danger ', ' common ', ' upmost ', ' ladder ', ' Caesar ', ' colour ', ' LUCIUS\\n', '\\nLUCIUS\\n', ' window ', ' letter\\n', '\\nBRUTUS\\n', '\\nLUCIUS\\n', '\\nBRUTUS\\n', '\\nLUCIUS\\n', '\\nBRUTUS\\n', ' letter ', ' LUCIUS\\n', '\\nLUCIUS\\n', ' wasted ', ' within\\n', '\\nBRUTUS\\n', ' LUCIUS\\n', ' acting ', ' Genius ', ' mortal ', ' little ', ' nature ', ' LUCIUS\\n', '\\nLUCIUS\\n', ' desire ', '\\nBRUTUS\\n', '\\nLUCIUS\\n', '\\nBRUTUS\\n', '\\nLUCIUS\\n', ' buried ', '\\nBRUTUS\\n', ' LUCIUS\\n', ' cavern ', ' enough\\n', ' smiles ', ' native ', ' Erebus ', ' enough\\n', ' DECIUS ', '\\nBRUTUS\\n', '\\nBRUTUS\\n', ' Decius ', '\\nBRUTUS\\n', '\\nBRUTUS\\n', '\\nBRUTUS ', '\\nDECIUS ', ' clouds ', ' season ', ' months ', ' higher ', '\\nBRUTUS\\n', '\\nBRUTUS\\n', ' enough\\n', ' kindle ', ' valour\\n', ' secret ', ' feeble ', ' causes ', ' virtue ', ' mettle ', ' guilty ', ' strong ', ' CIMBER\\n', ' silver ', ' voices ', ' youths ', ' buried ', '\\nBRUTUS\\n', ' follow ', '\\nIndeed ', '\\nDECIUS ', '\\nShould ', ' shrewd ', ' Antony ', ' Caesar ', '\\nBRUTUS\\n', ' course ', ' Antony ', ' spirit ', ' spirit ', '\\nCaesar ', ' gentle ', ' subtle ', ' common ', '\\nBRUTUS\\n', '\\nBRUTUS\\n', ' Caesar ', ' dreams ', ' terror ', '\\nDECIUS ', ' humour ', '\\nBRUTUS\\n', ' eighth ', ' CIMBER\\n', ' Caesar ', ' wonder ', '\\nBRUTUS\\n', '\\nBRUTUS\\n', ' actors ', ' formal ', ' morrow ', '\\nExeunt ', ' BRUTUS\\n', ' brains ', ' PORTIA\\n', '\\nPORTIA\\n', '\\nBRUTUS\\n', ' health ', ' commit\\n', '\\nPORTIA\\n', '\\nMusing ', ' matter ', ' stared ', ' withal\\n', ' effect ', ' should ', '\\nBRUTUS\\n', '\\nPORTIA\\n', '\\nBRUTUS\\n', '\\nPORTIA\\n', ' Brutus ', ' Brutus ', ' rheumy ', ' within ', ' virtue ', ' unfold ', ' resort ', '\\nBRUTUS\\n', ' gentle ', '\\nPORTIA\\n', ' should ', ' gentle ', '\\nWithin ', ' should ', '\\nPortia ', '\\nBRUTUS\\n', '\\nPORTIA\\n', ' should ', ' withal\\n', ' Brutus ', ' withal\\n', ' strong ', '\\nGiving ', '\\nBRUTUS\\n', '\\nRender ', ' worthy ', ' within\\n', ' PORTIA\\n', ' LUCIUS ', '\\nLUCIUS\\n', '\\nBRUTUS\\n', ' morrow ', ' feeble ', '\\nBRUTUS\\n', ' Brutus ', ' worthy ', '\\nBRUTUS\\n', ' Romans ', ' strive ', ' things ', ' better ', '\\nBRUTUS\\n', '\\nBRUTUS\\n', ' unfold ', ' follow ', ' Brutus ', '\\nBRUTUS\\n', '\\nExeunt\\n', '\\nCAESAR\\n', ' heaven ', '\\nThrice ', ' murder ', '\\nCAESAR\\n', '\\nCAESAR\\n', ' things ', ' fright ', ' things ', ' horrid ', ' graves ', '\\nFierce ', ' fought ', ' battle ', '\\nHorses ', ' ghosts ', ' shriek ', ' squeal ', ' things ', ' beyond ', '\\nCAESAR\\n', ' mighty ', ' Caesar ', ' comets ', '\\nCAESAR\\n', ' before ', ' should ', '\\nSeeing ', ' within ', '\\nCAESAR\\n', '\\nCaesar ', ' should ', ' Caesar ', ' danger ', ' Caesar ', ' Caesar ', ' wisdom ', ' Antony ', '\\nCAESAR\\n', ' Antony ', ' DECIUS ', ' Decius ', '\\nDECIUS ', ' worthy ', '\\nCAESAR\\n', '\\nCAESAR\\n', ' Caesar ', ' afraid ', ' Caesar ', '\\nDECIUS ', ' mighty ', '\\nCAESAR\\n', ' enough ', ' dreamt ', ' Romans\\n', '\\nDECIUS ', ' vision ', ' statue ', ' Romans ', ' relics ', '\\nCAESAR\\n', '\\nDECIUS ', ' senate ', ' mighty ', ' senate ', ' better ', ' Caesar ', ' Caesar ', '\\nPardon ', ' reason ', '\\nCAESAR\\n', '\\nCAESAR\\n', '\\nCaesar ', '\\nBRUTUS\\n', '\\nCAESAR\\n', ' ANTONY\\n', ' revels ', '\\nANTONY\\n', '\\nCAESAR\\n', ' waited ', '\\nCAESAR\\n', '\\nBRUTUS\\n', ' Brutus ', '\\nExeunt\\n', ' street ', ' beware ', ' Decius ', ' mighty ', ' defend ', ' Caesar ', ' suitor ', ' virtue ', ' before ', ' PORTIA ', ' LUCIUS\\n', ' answer ', '\\nLUCIUS\\n', '\\nPORTIA\\n', ' strong ', '\\nLUCIUS\\n', ' should ', ' return ', '\\nPORTIA\\n', ' sickly ', ' Caesar ', '\\nLUCIUS\\n', '\\nPORTIA\\n', ' listen ', ' brings ', '\\nLUCIUS\\n', '\\nPORTIA\\n', '\\nPORTIA\\n', '\\nPORTIA\\n', ' Caesar ', '\\nPORTIA\\n', ' please ', ' Caesar ', '\\nPORTIA\\n', ' morrow ', ' street ', ' throng ', ' Caesar ', ' common ', ' feeble ', ' almost ', ' Caesar ', '\\nPORTIA\\n', ' Brutus ', ' Caesar ', '\\nExeunt ', ' Before ', ' Senate ', ' DECIUS ', ' others\\n', '\\nDECIUS ', ' desire ', ' humble ', ' Caesar ', '\\nCAESAR\\n', '\\nCAESAR\\n', ' fellow ', '\\nCAESAR ', ' CAESAR\\n', '\\nBRUTUS\\n', '\\nBRUTUS\\n', ' Caesar ', '\\nBRUTUS\\n', ' speaks ', ' Caesar ', ' Antony ', '\\nExeunt ', '\\nDECIUS ', ' prefer ', '\\nBRUTUS\\n', ' second ', '\\nCAESAR\\n', ' Caesar ', ' senate ', ' CIMBER\\n', ' Cimber ', ' before ', ' humble ', '\\nCAESAR\\n', ' decree\\n', ' Caesar ', ' decree ', ' Caesar ', ' CIMBER\\n', ' worthy ', '\\nBRUTUS\\n', ' Cimber ', '\\nCAESAR\\n', ' fellow ', ' number ', ' little ', ' Cimber ', ' remain ', '\\nCAESAR\\n', '\\nDECIUS ', '\\nCAESAR\\n', ' Brutus ', ' BRUTUS ', ' CAESAR\\n', '\\nCAESAR\\n', ' common ', '\\nBRUTUS\\n', '\\nDECIUS ', '\\nBRUTUS\\n', ' CIMBER\\n', ' friend ', '\\nShould ', '\\nBRUTUS\\n', ' should ', '\\nBRUTUS\\n', '\\nBRUTUS\\n', ' twenty ', '\\nBRUTUS\\n', ' waving ', ' states ', '\\nBRUTUS\\n', ' Caesar ', '\\nDECIUS ', '\\nBrutus ', ' hearts ', '\\nBRUTUS\\n', ' friend ', ' master ', ' Antony ', '\\nBrutus ', '\\nCaesar ', ' honour ', ' Brutus ', ' Antony\\n', ' safely ', ' Caesar ', ' Antony ', ' Caesar ', ' Brutus ', ' follow\\n', ' Brutus\\n', ' untrod ', ' master ', '\\nBRUTUS\\n', ' master ', ' please ', '\\nDepart ', '\\nBRUTUS\\n', '\\nBRUTUS\\n', ' ANTONY\\n', '\\nANTONY\\n', ' mighty ', '\\nShrunk ', ' little ', ' whilst ', '\\nFulfil ', ' myself ', ' please ', ' choice ', ' master ', '\\nBRUTUS\\n', '\\nThough ', ' appear ', ' hearts ', ' drives ', ' swords ', ' leaden ', ' hearts\\n', ' strong ', '\\nBRUTUS\\n', ' beside ', ' Caesar ', ' struck ', '\\nANTONY\\n', ' render ', ' bloody ', ' Marcus ', ' Decius ', '\\nThough ', ' credit ', ' stands ', '\\nEither ', ' coward ', ' spirit ', ' grieve ', ' dearer ', ' making ', ' bloody ', ' stream ', ' become ', ' better ', '\\nPardon ', ' forest ', '\\nANTONY\\n', ' Caesar ', ' Caesar ', ' number ', ' depend ', '\\nANTONY\\n', ' Caesar ', '\\nBRUTUS\\n', ' savage ', ' regard\\n', ' should ', '\\nANTONY\\n', ' suitor ', '\\nBRUTUS\\n', ' BRUTUS\\n', ' Antony ', ' people ', '\\nBRUTUS\\n', ' myself ', ' pulpit ', ' reason ', ' Antony ', ' speaks ', ' Caesar ', ' lawful ', '\\nBRUTUS\\n', ' speech ', ' devise ', ' pulpit ', ' speech ', '\\nANTONY\\n', ' desire ', '\\nBRUTUS\\n', ' follow ', '\\nExeunt ', ' ANTONY\\n', '\\nANTONY\\n', ' pardon ', ' gentle ', ' costly ', ' wounds ', ' fierce ', ' strife\\n', ' cumber ', ' behold\\n', ' choked ', ' custom ', '\\nANTONY\\n', '\\nSeeing ', '\\nANTONY\\n', '\\nSeeing ', ' sorrow ', ' master ', ' within ', '\\nANTONY\\n', ' safety ', ' people ', ' bloody ', '\\nExeunt ', ' BRUTUS ', ' throng ', '\\nBRUTUS\\n', ' follow ', ' follow ', ' public ', ' Brutus ', '\\nSecond ', ' BRUTUS ', ' pulpit\\n', ' Brutus ', '\\nBRUTUS\\n', ' better ', ' friend ', ' Caesar\\n', ' friend ', ' Brutus ', ' Caesar ', ' rather ', ' living ', ' Caesar ', ' Caesar ', ' honour ', ' honour ', '\\nBRUTUS\\n', '\\nCaesar ', ' ANTONY ', '\\nthough ', ' dagger ', ' please ', '\\nSecond ', ' statue ', '\\nFourth ', ' better ', ' shouts ', '\\nBRUTUS\\n', '\\nSecond ', ' Brutus ', '\\nBRUTUS\\n', ' depart ', ' speech\\n', ' Antony ', ' public ', '\\nANTONY\\n', ' pulpit\\n', '\\nFourth ', '\\nFourth ', ' Brutus ', ' Caesar ', '\\nSecond ', ' Antony ', '\\nANTONY\\n', ' gentle ', '\\nANTONY\\n', ' praise ', ' Brutus\\n', ' Caesar ', ' Caesar ', ' Brutus ', ' Brutus ', ' Brutus ', ' Brutus ', ' Caesar ', ' Caesar ', ' should ', ' Brutus ', ' Brutus ', ' thrice ', ' kingly ', ' thrice ', ' Brutus ', ' Brutus ', ' coffin ', ' reason ', '\\nSecond ', '\\nCaesar ', '\\nFourth ', '\\nSecond ', ' nobler ', '\\nFourth ', ' begins ', '\\nANTONY\\n', ' Caesar ', ' hearts ', ' mutiny ', ' should ', ' Brutus ', ' rather ', ' myself ', ' pardon ', ' wounds\\n', ' sacred ', ' within ', ' legacy\\n', '\\nFourth ', '\\nANTONY\\n', ' gentle ', ' Caesar ', '\\nFourth ', '\\nANTONY\\n', ' myself ', '\\nFourth ', '\\nSecond ', '\\nANTONY\\n', ' compel ', ' corpse ', '\\nSecond ', '\\nANTONY ', '\\nFourth ', '\\nSecond ', '\\nANTONY\\n', '\\nANTONY\\n', ' Caesar ', ' dagger ', ' Brutus ', ' cursed ', ' Caesar ', ' Brutus ', ' dearly ', ' Caesar ', ' strong ', ' mighty ', ' mantle ', ' Caesar ', '\\nWhilst ', ' behold\\n', '\\nSecond ', '\\nFourth ', ' bloody ', '\\nSecond ', '\\nANTONY\\n', '\\nSecond ', ' follow ', '\\nANTONY\\n', ' sudden ', ' griefs ', ' answer ', ' Brutus ', ' public ', ' Brutus ', ' Antony\\n', ' ruffle ', ' tongue\\n', ' Caesar ', ' should ', ' stones ', '\\nANTONY\\n', '\\nANTONY\\n', ' Caesar ', ' forgot ', '\\nANTONY\\n', '\\nSecond ', '\\nANTONY\\n', '\\nANTONY\\n', ' common ', ' brands ', '\\nSecond ', '\\nFourth ', '\\nExeunt ', '\\nANTONY\\n', ' course ', '\\nANTONY\\n', '\\nANTONY\\n', ' Brutus ', ' madmen ', '\\nANTONY\\n', ' notice ', '\\nExeunt\\n', ' dreamt ', ' things ', ' charge ', ' wander ', '\\nSecond ', '\\nFourth ', '\\nSecond ', '\\nAnswer ', '\\nFourth ', '\\nanswer ', ' wisely ', ' wisely ', '\\nSecond ', ' friend ', '\\nSecond ', ' matter ', '\\nFourth ', '\\nFourth ', '\\nFourth ', ' brands ', '\\nExeunt\\n', ' seated ', '\\nANTONY\\n', '\\nANTONY\\n', ' charge ', '\\nANTONY\\n', ' slight ', ' should ', ' should ', '\\nANTONY\\n', ' though ', ' divers ', '\\nEither ', ' having ', '\\nANTONY\\n', ' motion ', ' taught ', ' staled ', '\\nListen ', ' covert ', ' perils ', '\\nExeunt\\n', ' Before ', '\\nBRUTUS\\n', '\\nBRUTUS\\n', '\\nBRUTUS\\n', ' greets ', ' worthy ', '\\nThings ', ' master ', ' appear\\n', ' regard ', '\\nBRUTUS\\n', '\\nBRUTUS\\n', ' friend ', ' begins ', ' sicken ', ' tricks ', ' simple ', ' hollow ', ' horses ', ' should ', ' bloody ', ' Sardis ', '\\nBRUTUS\\n', ' within\\n', ' gently ', ' powers\\n', '\\nBRUTUS\\n', '\\nSecond ', '\\nBRUTUS\\n', ' should ', '\\nBRUTUS\\n', ' griefs ', '\\nBefore ', ' armies ', ' should ', ' little ', '\\nBRUTUS\\n', ' Lucius ', '\\nExeunt\\n', ' BRUTUS ', ' appear ', ' Lucius ', ' taking ', '\\nBRUTUS\\n', ' should ', '\\nBRUTUS\\n', ' Brutus ', ' speech ', '\\nBRUTUS\\n', '\\nBRUTUS\\n', ' Julius ', ' struck ', ' mighty ', ' rather ', ' endure ', ' forget ', '\\nBRUTUS\\n', '\\nBRUTUS\\n', ' forget ', '\\nBRUTUS\\n', ' slight ', '\\nBRUTUS\\n', ' madman ', ' endure ', '\\nBRUTUS\\n', ' slaves ', ' crouch\\n', ' digest ', '\\nThough ', '\\nBRUTUS\\n', ' better ', ' appear ', ' please ', '\\nBRUTUS\\n', ' Caesar ', '\\nBRUTUS\\n', '\\nBRUTUS\\n', '\\nBRUTUS\\n', '\\nBRUTUS\\n', ' should ', ' strong ', ' denied ', ' rather ', ' denied ', '\\nShould ', ' Marcus ', ' rascal ', ' denied ', '\\nBRUTUS\\n', ' answer ', ' Brutus ', ' friend ', ' Brutus ', '\\nBRUTUS\\n', '\\nBRUTUS\\n', '\\nBRUTUS\\n', ' though ', ' appear\\n', ' aweary ', ' braved ', ' faults ', ' spirit ', '\\nDearer ', ' richer ', ' denied ', ' better\\n', '\\nBRUTUS\\n', ' vexeth ', '\\nBRUTUS\\n', '\\nBRUTUS\\n', '\\nBRUTUS\\n', ' enough ', ' humour ', ' mother ', '\\nBRUTUS\\n', ' mother ', ' grudge ', ' LUCIUS\\n', ' should ', ' vilely ', '\\nBRUTUS\\n', '\\nBRUTUS\\n', ' should ', '\\nBRUTUS\\n', '\\nExeunt ', '\\nBRUTUS\\n', ' LUCIUS\\n', '\\nBRUTUS\\n', '\\nBRUTUS\\n', ' sorrow ', ' Portia ', '\\nBRUTUS\\n', '\\nBRUTUS\\n', ' Antony\\n', '\\nBRUTUS\\n', '\\nBRUTUS\\n', ' cannot ', '\\nBRUTUS\\n', ' LUCIUS\\n', '\\nBRUTUS\\n', ' Antony\\n', ' mighty ', ' toward ', '\\nMyself ', '\\nBRUTUS\\n', '\\nBRUTUS\\n', ' Cicero ', '\\nCicero ', '\\nCicero ', '\\nBRUTUS\\n', '\\nBRUTUS\\n', '\\nBRUTUS\\n', '\\nBRUTUS\\n', '\\nBRUTUS\\n', ' endure ', ' losses ', ' nature ', '\\nBRUTUS\\n', '\\nBRUTUS\\n', ' better ', ' whilst ', '\\nBRUTUS\\n', ' people ', ' ground\\n', ' forced ', ' fuller ', ' people ', '\\nBRUTUS\\n', ' utmost ', ' voyage ', '\\nBRUTUS\\n', ' nature ', ' little ', '\\nBRUTUS\\n', ' LUCIUS\\n', ' LUCIUS\\n', '\\nBRUTUS\\n', '\\nBRUTUS\\n', '\\nBRUTUS\\n', '\\nExeunt ', ' BRUTUS\\n', '\\nLUCIUS\\n', '\\nBRUTUS\\n', '\\nLUCIUS\\n', '\\nBRUTUS\\n', ' please ', '\\nBRUTUS\\n', ' sought ', ' pocket ', '\\nLUCIUS\\n', '\\nBRUTUS\\n', ' strain ', '\\nLUCIUS\\n', ' please ', '\\nBRUTUS\\n', '\\nLUCIUS\\n', '\\nBRUTUS\\n', ' should ', ' bloods ', '\\nLUCIUS\\n', '\\nBRUTUS\\n', ' sleepy ', ' leaden ', ' Gentle ', ' CAESAR\\n', ' shapes ', ' makest ', '\\nBRUTUS\\n', ' comest ', '\\nBRUTUS\\n', '\\nBRUTUS\\n', '\\nLUCIUS\\n', '\\nBRUTUS\\n', ' thinks ', '\\nLUCIUS\\n', '\\nBRUTUS\\n', '\\nLUCIUS\\n', '\\nBRUTUS\\n', '\\nLUCIUS\\n', '\\nBRUTUS\\n', ' Sirrah ', '\\nFellow ', '\\nBRUTUS\\n', '\\nBRUTUS\\n', '\\nBRUTUS\\n', ' powers ', '\\nExeunt\\n', ' plains ', ' proves ', ' before ', ' demand ', '\\nANTONY\\n', ' fasten ', ' bloody ', ' battle ', '\\nANTONY\\n', ' battle ', '\\nANTONY\\n', ' others\\n', '\\nBRUTUS\\n', '\\nANTONY\\n', ' answer ', '\\nBRUTUS\\n', ' before ', '\\nBRUTUS\\n', ' better ', '\\nANTONY\\n', '\\nCrying ', '\\nANTONY\\n', '\\nBRUTUS\\n', ' wisely ', ' before ', '\\nANTONY\\n', '\\nWhilst ', ' behind\\n', ' Caesar ', ' tongue ', ' redder ', ' thirty ', ' Caesar\\n', '\\nBRUTUS\\n', '\\nUnless ', '\\nBRUTUS\\n', ' masker ', '\\nANTONY\\n', '\\nExeunt ', ' billow ', '\\nBRUTUS\\n', '\\nBRUTUS ', ' Pompey ', ' battle ', ' strong\\n', ' change ', ' partly ', ' things ', '\\nComing ', ' former ', ' mighty ', ' steads ', ' sickly ', ' canopy ', ' spirit ', ' perils ', '\\nBRUTUS\\n', '\\nLovers ', ' reason ', '\\nBRUTUS\\n', ' arming ', ' powers\\n', ' govern ', '\\nBRUTUS\\n', ' Brutus ', '\\nBRUTUS\\n', '\\nExeunt\\n', ' BRUTUS ', '\\nBRUTUS\\n', ' alarum\\n', ' sudden ', '\\nExeunt\\n', '\\nMyself ', ' ensign ', ' Brutus ', ' having ', '\\nWhilst ', ' Antony ', ' Antony ', ' lovest ', ' yonder ', ' troops ', ' friend ', ' higher ', ' regard ', ' notest ', ' almost ', ' lights ', ' behold ', ' coward ', ' friend ', ' before ', ' saving ', ' search ', ' things ', ' comest ', ' mother ', ' whilst ', ' report\\n', ' Brutus\\n', ' wreath ', ' Brutus ', '\\nBRUTUS\\n', '\\nBRUTUS\\n', '\\nBRUTUS\\n', ' Julius ', ' mighty ', ' spirit ', ' abroad ', ' swords\\n', ' proper ', '\\nBRUTUS\\n', ' Romans ', '\\nShould ', ' Thasos ', ' second ', '\\nExeunt\\n', ' others\\n', ' Marcus ', ' Marcus ', '\\nBRUTUS\\n', ' Marcus ', '\\nSecond ', ' Brutus ', ' ANTONY\\n', '\\nBrutus ', ' Brutus ', '\\nANTONY\\n', ' Brutus ', ' assure ', ' defend ', '\\nANTONY\\n', ' assure ', ' rather ', ' Brutus ', '\\nExeunt\\n', '\\nBRUTUS\\n', '\\nCLITUS\\n', '\\nBRUTUS\\n', '\\nCLITUS\\n', '\\nBRUTUS\\n', '\\nCLITUS\\n', ' rather ', '\\nBRUTUS\\n', '\\nCLITUS\\n', '\\nCLITUS\\n', ' Brutus ', '\\nCLITUS\\n', ' vessel ', '\\nBRUTUS\\n', '\\nBRUTUS\\n', ' Caesar ', ' Sardis ', '\\nBRUTUS\\n', ' worthy ', ' school ', ' whilst ', ' office ', '\\nAlarum ', '\\nCLITUS\\n', '\\nBRUTUS\\n', ' losing ', ' Antony\\n', ' attain ', ' tongue\\n', ' almost ', ' attain ', '\\nCLITUS\\n', '\\nBRUTUS\\n', '\\nExeunt ', ' fellow ', ' smatch ', ' honour ', '\\nSTRATO\\n', '\\nBRUTUS\\n', '\\nSTRATO\\n', ' Brutus ', ' honour ', ' Brutus ', ' proved ', ' saying ', ' served ', ' bestow ', '\\nSTRATO\\n', ' prefer ', '\\nSTRATO\\n', ' follow ', ' latest ', '\\nANTONY\\n', ' honest ', ' common ', ' Nature ', ' virtue ', '\\nWithin ']\n"
          ],
          "name": "stdout"
        }
      ]
    },
    {
      "cell_type": "markdown",
      "metadata": {
        "id": "vE3ILseyMdZC"
      },
      "source": [
        "Problem 3)"
      ]
    },
    {
      "cell_type": "code",
      "metadata": {
        "colab": {
          "base_uri": "https://localhost:8080/",
          "height": 0
        },
        "id": "4RCQ1IbjMfOQ",
        "outputId": "f217d18a-87d2-44ba-f108-1ad6b174c8cb"
      },
      "source": [
        "import re\r\n",
        "#I've added the txt to this session of google colab hopefully that works for grading\r\n",
        "file = open(\"/content/hw_1-text.txt\")\r\n",
        "def firstCap(file):\r\n",
        "  lines = file.read()\r\n",
        "  return len(re.findall(r'\\s[A-Z][a-z]*\\s', lines))\r\n",
        "\r\n",
        "print(firstCap(file))\r\n"
      ],
      "execution_count": 3,
      "outputs": [
        {
          "output_type": "stream",
          "text": [
            "2972\n"
          ],
          "name": "stdout"
        }
      ]
    },
    {
      "cell_type": "markdown",
      "metadata": {
        "id": "VrKZ6GVCQWBd"
      },
      "source": [
        "Problem 4)"
      ]
    },
    {
      "cell_type": "code",
      "metadata": {
        "colab": {
          "base_uri": "https://localhost:8080/",
          "height": 0
        },
        "id": "gsGI4sSTQYZN",
        "outputId": "a9b449cf-9d30-4696-db68-0fe99f59e898"
      },
      "source": [
        "import re\r\n",
        "#I've added the txt to this session of google colab hopefully that works for grading\r\n",
        "file = open(\"/content/hw_1-text.txt\")\r\n",
        "def sonOf(file):\r\n",
        "  lines = file.read()\r\n",
        "  return re.findall(r'son of (\\w+)', lines,re.IGNORECASE)\r\n",
        "\r\n",
        "print(sonOf(file))\r\n"
      ],
      "execution_count": 11,
      "outputs": [
        {
          "output_type": "stream",
          "text": [
            "['Rome', 'the', 'Caesar', 'our', 'Marcus', 'Marcus']\n"
          ],
          "name": "stdout"
        }
      ]
    },
    {
      "cell_type": "markdown",
      "metadata": {
        "id": "ZC5Po5N0o94c"
      },
      "source": [
        "Problem 5)"
      ]
    },
    {
      "cell_type": "code",
      "metadata": {
        "colab": {
          "base_uri": "https://localhost:8080/",
          "height": 0
        },
        "id": "uEwgTA7qo_bT",
        "outputId": "c46d05ad-ea9b-4e9c-dd2b-701634c5a19b"
      },
      "source": [
        "import re\r\n",
        "file = open(\"/content/hw_1-text.txt\")\r\n",
        "def actFind(file):\r\n",
        "  lines = file.read()\r\n",
        "  #should default to case sensitive..\r\n",
        "  return re.findall(r'ACT (\\w+)', lines)\r\n",
        "\r\n",
        "print(actFind(file))\r\n"
      ],
      "execution_count": 13,
      "outputs": [
        {
          "output_type": "stream",
          "text": [
            "['I', 'II', 'III', 'IV', 'V']\n"
          ],
          "name": "stdout"
        }
      ]
    },
    {
      "cell_type": "markdown",
      "metadata": {
        "id": "jFuGHcD0pq5R"
      },
      "source": [
        "Problem 6)"
      ]
    },
    {
      "cell_type": "code",
      "metadata": {
        "colab": {
          "base_uri": "https://localhost:8080/",
          "height": 0
        },
        "id": "b98iV__PpsRD",
        "outputId": "2bdf2bc4-e151-4d50-e3ed-ce8927bcf929"
      },
      "source": [
        "import re\r\n",
        "file = open(\"/content/hw_1-text.txt\")\r\n",
        "def questionMark(file):\r\n",
        "  lines = file.read()\r\n",
        "  #should default to case sensitive..\r\n",
        "  return len(re.findall(r'\\?\\n', lines))\r\n",
        "\r\n",
        "print(questionMark(file))"
      ],
      "execution_count": 16,
      "outputs": [
        {
          "output_type": "stream",
          "text": [
            "215\n"
          ],
          "name": "stdout"
        }
      ]
    }
  ]
}