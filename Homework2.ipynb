{
  "nbformat": 4,
  "nbformat_minor": 0,
  "metadata": {
    "colab": {
      "name": "Untitled2.ipynb",
      "provenance": [],
      "authorship_tag": "ABX9TyM8xw8vIvzwom0t+NU1q66h",
      "include_colab_link": true
    },
    "kernelspec": {
      "name": "python3",
      "display_name": "Python 3"
    }
  },
  "cells": [
    {
      "cell_type": "markdown",
      "metadata": {
        "id": "view-in-github",
        "colab_type": "text"
      },
      "source": [
        "<a href=\"https://colab.research.google.com/github/harrisontg57/NLP_Spring_2021/blob/main/Homework2.ipynb\" target=\"_parent\"><img src=\"https://colab.research.google.com/assets/colab-badge.svg\" alt=\"Open In Colab\"/></a>"
      ]
    },
    {
      "cell_type": "markdown",
      "metadata": {
        "id": "rx7ug1RQsx0-"
      },
      "source": [
        "\r\n",
        "Tim Harrison ID: 002-24-5948"
      ]
    },
    {
      "cell_type": "markdown",
      "metadata": {
        "id": "02_dD8v7syzO"
      },
      "source": [
        "Problem 1)"
      ]
    },
    {
      "cell_type": "code",
      "metadata": {
        "id": "JSQkTI19s0Ow"
      },
      "source": [
        "import re\r\n",
        "import sklearn\r\n",
        "import nltk"
      ],
      "execution_count": null,
      "outputs": []
    }
  ]
}