{
  "nbformat": 4,
  "nbformat_minor": 0,
  "metadata": {
    "colab": {
      "name": "Untitled0.ipynb",
      "provenance": [],
      "collapsed_sections": [],
      "authorship_tag": "ABX9TyNbZpZKrGf/gxnfColPvFwR",
      "include_colab_link": true
    },
    "kernelspec": {
      "name": "python3",
      "display_name": "Python 3"
    }
  },
  "cells": [
    {
      "cell_type": "markdown",
      "metadata": {
        "id": "view-in-github",
        "colab_type": "text"
      },
      "source": [
        "<a href=\"https://colab.research.google.com/github/harrisontg57/NLP_Spring_2021/blob/main/Homework0.ipynb\" target=\"_parent\"><img src=\"https://colab.research.google.com/assets/colab-badge.svg\" alt=\"Open In Colab\"/></a>"
      ]
    },
    {
      "cell_type": "code",
      "metadata": {
        "id": "CaKH8qqthGyb"
      },
      "source": [
        "NLP Course Spring 2021\r\n"
      ],
      "execution_count": null,
      "outputs": []
    },
    {
      "cell_type": "markdown",
      "metadata": {
        "id": "ig0ojpaShVaj"
      },
      "source": [
        "Tim Harrison ID: 002-24-5948"
      ]
    },
    {
      "cell_type": "markdown",
      "metadata": {
        "id": "aqS0y3EQi8T9"
      },
      "source": [
        "Problem 1"
      ]
    },
    {
      "cell_type": "code",
      "metadata": {
        "colab": {
          "base_uri": "https://localhost:8080/"
        },
        "id": "loVdMh2biiwW",
        "outputId": "0b1d6b8c-e6c0-4573-e798-aa5b44ab1127"
      },
      "source": [
        "def factorial(n):\r\n",
        "  if n == 0 or n == 1:\r\n",
        "    return 1\r\n",
        "  return n * factorial(n-1)\r\n",
        "\r\n",
        "factorial(10)"
      ],
      "execution_count": null,
      "outputs": [
        {
          "output_type": "execute_result",
          "data": {
            "text/plain": [
              "3628800"
            ]
          },
          "metadata": {
            "tags": []
          },
          "execution_count": 1
        }
      ]
    },
    {
      "cell_type": "markdown",
      "metadata": {
        "id": "wuh5-AOJjbW7"
      },
      "source": [
        "Problem 2"
      ]
    },
    {
      "cell_type": "code",
      "metadata": {
        "id": "ULe9ne6CjeeP",
        "colab": {
          "base_uri": "https://localhost:8080/"
        },
        "outputId": "21287045-7f35-467b-a8e4-b803b4c08194"
      },
      "source": [
        "def isPrime(n):\r\n",
        "  if n<= 1:\r\n",
        "    return False\r\n",
        "  for k in range(2,n):\r\n",
        "    if n%k == 0:\r\n",
        "      return False\r\n",
        "  return True\r\n",
        "\r\n",
        "print(isPrime(3))\r\n",
        "\r\n",
        "print(isPrime(1251))\r\n",
        "  "
      ],
      "execution_count": 3,
      "outputs": [
        {
          "output_type": "stream",
          "text": [
            "True\n",
            "False\n"
          ],
          "name": "stdout"
        }
      ]
    },
    {
      "cell_type": "markdown",
      "metadata": {
        "id": "fDY1qx7k7wx7"
      },
      "source": [
        "Problem 3\r\n",
        "(Assuming our matrix is a list of lists and every internal list is the same size)"
      ]
    },
    {
      "cell_type": "code",
      "metadata": {
        "colab": {
          "base_uri": "https://localhost:8080/"
        },
        "id": "bKd0vi1i7ysI",
        "outputId": "47a30406-da48-4c1e-e76f-d35c4bc394a2"
      },
      "source": [
        "def transpose(m):\r\n",
        "  if len(m) == 1 and len(m[0]) == 1:\r\n",
        "    return m\r\n",
        "  x = len(m)\r\n",
        "  y = len(m[0])\r\n",
        "  nx = []\r\n",
        "  for j in range(y):\r\n",
        "    fy = []\r\n",
        "    for b in range(x):\r\n",
        "      ffy = m[b][j]\r\n",
        "      fy.append(m[b][j])\r\n",
        "    nx.append(fy)\r\n",
        "  return nx\r\n",
        "\r\n",
        "test = [[1,1,1],[1,1,1],[1,1,1]]\r\n",
        "test2 = [[1,2],[3,4],[5,6]]\r\n",
        "\r\n",
        "print(transpose(test))\r\n",
        "#print(transpose(test2))"
      ],
      "execution_count": 27,
      "outputs": [
        {
          "output_type": "stream",
          "text": [
            "[[1, 1, 1], [1, 1, 1], [1, 1, 1]]\n"
          ],
          "name": "stdout"
        }
      ]
    },
    {
      "cell_type": "markdown",
      "metadata": {
        "id": "9WHHl6GxDKfh"
      },
      "source": [
        "Problem 4 (Assuming pandas function 'combine' is off limits)"
      ]
    },
    {
      "cell_type": "code",
      "metadata": {
        "colab": {
          "base_uri": "https://localhost:8080/"
        },
        "id": "rIUWY3ALDMB-",
        "outputId": "b864358b-d988-4b16-faa2-e4f771e9aea9"
      },
      "source": [
        "import pandas as pd\r\n",
        "import numpy as np\r\n",
        "\r\n",
        "def combine(a:pd.Series, b:pd.Series):\r\n",
        "  nseries = a.copy()\r\n",
        "  return nseries.append(b)\r\n",
        "\r\n",
        "\r\n",
        "np.random.seed(0)\r\n",
        "series1 = pd.Series(np.arange(10))\r\n",
        "series2 = pd.Series(np.arange(26))\r\n",
        "#print(series1)\r\n",
        "#print(series2)\r\n",
        "print(combine(series1,series2))\r\n",
        "\r\n"
      ],
      "execution_count": 65,
      "outputs": [
        {
          "output_type": "stream",
          "text": [
            "0      0\n",
            "1      1\n",
            "2      2\n",
            "3      3\n",
            "4      4\n",
            "5      5\n",
            "6      6\n",
            "7      7\n",
            "8      8\n",
            "9      9\n",
            "0      0\n",
            "1      1\n",
            "2      2\n",
            "3      3\n",
            "4      4\n",
            "5      5\n",
            "6      6\n",
            "7      7\n",
            "8      8\n",
            "9      9\n",
            "10    10\n",
            "11    11\n",
            "12    12\n",
            "13    13\n",
            "14    14\n",
            "15    15\n",
            "16    16\n",
            "17    17\n",
            "18    18\n",
            "19    19\n",
            "20    20\n",
            "21    21\n",
            "22    22\n",
            "23    23\n",
            "24    24\n",
            "25    25\n",
            "dtype: int64\n"
          ],
          "name": "stdout"
        }
      ]
    },
    {
      "cell_type": "markdown",
      "metadata": {
        "id": "yXfmnc7AKB6F"
      },
      "source": [
        "Problem 5"
      ]
    },
    {
      "cell_type": "code",
      "metadata": {
        "id": "of8liVK-KDIT"
      },
      "source": [
        ""
      ],
      "execution_count": null,
      "outputs": []
    }
  ]
}